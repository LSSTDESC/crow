{
 "cells": [
  {
   "cell_type": "code",
   "execution_count": 1,
   "id": "4a72f52a-f640-4fc5-aaf9-a398edc81a1a",
   "metadata": {},
   "outputs": [],
   "source": [
    "import sys\n",
    "sys.path.append(\"/sps/lsst/users/ebarroso/crow\")\n",
    "import crow\n",
    "from crow.deltasigma import *"
   ]
  },
  {
   "cell_type": "markdown",
   "id": "c680d7fb-f744-44c2-a2c1-c1d8e90b1f7c",
   "metadata": {},
   "source": [
    "## Testing Shear implementation in deltasigma.py"
   ]
  },
  {
   "cell_type": "code",
   "execution_count": 2,
   "id": "09177aa0-dd06-4bf4-b52d-c42b63e99320",
   "metadata": {},
   "outputs": [],
   "source": [
    "import pyccl as ccl\n",
    "hmf = ccl.halos.MassFuncTinker08(mass_def=\"200c\")\n",
    "\n",
    "cl_delta_sigma = ClusterDeltaSigma((12,15), (0.1,1.2), hmf, True, 4.0)\n",
    "cosmo = ccl.Cosmology(\n",
    "    Omega_c=0.2607,      # Cold dark matter density\n",
    "    Omega_b=0.04897,     # Baryon density\n",
    "    h=0.6766,            # Hubble parameter\n",
    "    sigma8=0.8102,       # Matter fluctuation amplitude\n",
    "    n_s=0.9665,          # Spectral index\n",
    ")\n",
    "cl_delta_sigma._cosmo = cosmo\n",
    "\n",
    "cl_reduced_shear = ClusterDeltaSigma((12,15), (0.1,1.2), hmf, False, 4.0)\n",
    "\n",
    "cl_reduced_shear._cosmo = cosmo"
   ]
  },
  {
   "cell_type": "code",
   "execution_count": 3,
   "id": "0d83494e-b5b9-4014-b329-e80a489b94ac",
   "metadata": {},
   "outputs": [
    {
     "name": "stdout",
     "output_type": "stream",
     "text": [
      "[1.13451921e+12]\n",
      "[0.00027905]\n"
     ]
    }
   ],
   "source": [
    "ds_val = cl_delta_sigma.delta_sigma([13], [1.2], 3.0)\n",
    "print(ds_val)\n",
    "\n",
    "gt_val = cl_reduced_shear.delta_sigma([13], [1.2], 3.0)\n",
    "print(gt_val)"
   ]
  },
  {
   "cell_type": "markdown",
   "id": "690a940f-8a77-4eac-90ff-cdd3068184f3",
   "metadata": {},
   "source": [
    "## Values with interpolated Beta"
   ]
  },
  {
   "cell_type": "code",
   "execution_count": 4,
   "id": "d1c46cfb-6d9a-40a2-b4b4-8cb0dfbc6440",
   "metadata": {},
   "outputs": [
    {
     "name": "stdout",
     "output_type": "stream",
     "text": [
      "Warning, no redshift bin for beta estimation, using integration values (0.1, 1.2) instead\n",
      "[0.00027905]\n",
      "[0.00045063]\n"
     ]
    }
   ],
   "source": [
    "gt_val = cl_reduced_shear.delta_sigma([13], [1.2], 3.0, use_beta_interp=True)\n",
    "print(gt_val)\n",
    "cl_reduced_shear.beta_zbin_cl_edges = [0.2, 0.4]\n",
    "cl_reduced_shear.beta_interp = None\n",
    "gt_val = cl_reduced_shear.delta_sigma([13], [1.2], 3.0, use_beta_interp= True)\n",
    "print(gt_val)"
   ]
  },
  {
   "cell_type": "markdown",
   "id": "054d2461-258a-4f22-a545-2a189a16e146",
   "metadata": {},
   "source": [
    "## Test implementation on the recipe"
   ]
  },
  {
   "cell_type": "code",
   "execution_count": 9,
   "id": "6a1e3a9d-3e36-4a63-8b39-11dd41d6ff22",
   "metadata": {},
   "outputs": [
    {
     "name": "stdout",
     "output_type": "stream",
     "text": [
      "\n",
      "Delta Sigma Starts here\n",
      "--------------------------------------------------\n",
      "Eval 1: 8.205e+15 | Time: 0.2356 s\n",
      "Eval 2: 1.281e+15 | Time: 0.2376 s\n",
      "Counts: 2.658e+02\n",
      "\n",
      "Tangential Shear Starts here\n",
      "--------------------------------------------------\n",
      "Eval 1: 2.099e+00 | Time: 2.2253 s\n",
      "Eval 2: 4.338e-01 | Time: 7.6118 s\n",
      "Counts: 2.658e+02\n",
      "\n",
      "Tangential Shear with Interpolation Starts here\n",
      "--------------------------------------------------\n",
      "Eval 1: 2.099e+00 | Time: 0.2801 s\n",
      "Eval 2: 4.338e-01 | Time: 0.3233 s\n",
      "Counts: 2.658e+02\n"
     ]
    }
   ],
   "source": [
    "from crow.recipes.murata_binned_spec_z_deltasigma import MurataBinnedSpecZDeltaSigmaRecipe\n",
    "from crow.mass_proxy import MurataBinned\n",
    "from crow.kernel import SpectroscopicRedshift\n",
    "from firecrown.models.cluster import ClusterProperty\n",
    "import time\n",
    "\n",
    "pivot_mass, pivot_redshift = 14.625862906, 0.6\n",
    "mass_distribution = MurataBinned(pivot_mass, pivot_redshift)\n",
    "redshift_distribution = SpectroscopicRedshift()\n",
    "\n",
    "def run_recipe(label, is_delta_sigma=False, use_beta_interp=False):\n",
    "    print(f\"\\n{label} Starts here\\n{'-'*50}\")\n",
    "    \n",
    "    recipe = MurataBinnedSpecZDeltaSigmaRecipe(\n",
    "        hmf=hmf,\n",
    "        redshift_distribution=redshift_distribution,\n",
    "        mass_distribution=mass_distribution,\n",
    "        is_delta_sigma=is_delta_sigma,\n",
    "        use_beta_interp=use_beta_interp\n",
    "    )\n",
    "    recipe.cluster_theory._cosmo = cosmo\n",
    "\n",
    "    t0 = time.time()\n",
    "    val1 = recipe.evaluate_theory_prediction((1.1, 1.2), (1, 2), 1.0, 440, ClusterProperty.DELTASIGMA)\n",
    "    t1 = time.time()\n",
    "    print(f\"Eval 1: {val1:.3e} | Time: {t1-t0:.4f} s\")\n",
    "\n",
    "    t2 = time.time()\n",
    "    val2 = recipe.evaluate_theory_prediction((0.2, 0.31), (0.86, 1.0), 4.0, 440, ClusterProperty.DELTASIGMA)\n",
    "    t3 = time.time()\n",
    "    print(f\"Eval 2: {val2:.3e} | Time: {t3-t2:.4f} s\")\n",
    "\n",
    "    counts = recipe.evaluate_theory_prediction_counts((0.2, 0.31), (0.86, 1.0), 440)\n",
    "    print(f\"Counts: {counts:.3e}\")\n",
    "\n",
    "# Run different scenarios\n",
    "run_recipe(\"Delta Sigma\", is_delta_sigma=True)\n",
    "run_recipe(\"Tangential Shear\", is_delta_sigma=False)\n",
    "run_recipe(\"Tangential Shear with Interpolation\", is_delta_sigma=False, use_beta_interp=True)\n"
   ]
  },
  {
   "cell_type": "code",
   "execution_count": null,
   "id": "e8b337bd-c98f-4a72-8bff-f5a62be8d558",
   "metadata": {},
   "outputs": [],
   "source": []
  }
 ],
 "metadata": {
  "kernelspec": {
   "display_name": "Python (firecrown20.0)",
   "language": "python",
   "name": "firecrown_20"
  },
  "language_info": {
   "codemirror_mode": {
    "name": "ipython",
    "version": 3
   },
   "file_extension": ".py",
   "mimetype": "text/x-python",
   "name": "python",
   "nbconvert_exporter": "python",
   "pygments_lexer": "ipython3",
   "version": "3.13.0"
  }
 },
 "nbformat": 4,
 "nbformat_minor": 5
}
