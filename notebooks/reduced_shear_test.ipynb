{
 "cells": [
  {
   "cell_type": "code",
   "execution_count": 3,
   "id": "4a72f52a-f640-4fc5-aaf9-a398edc81a1a",
   "metadata": {},
   "outputs": [],
   "source": [
    "import sys\n",
    "sys.path.append(\"/sps/lsst/users/ebarroso/crow\")\n",
    "import crow\n",
    "from crow.deltasigma import *"
   ]
  },
  {
   "cell_type": "markdown",
   "id": "c680d7fb-f744-44c2-a2c1-c1d8e90b1f7c",
   "metadata": {},
   "source": [
    "## Testing Shear implementation in deltasigma.py"
   ]
  },
  {
   "cell_type": "code",
   "execution_count": 11,
   "id": "09177aa0-dd06-4bf4-b52d-c42b63e99320",
   "metadata": {},
   "outputs": [],
   "source": [
    "import pyccl as ccl\n",
    "hmf = ccl.halos.MassFuncTinker08(mass_def=\"200c\")\n",
    "\n",
    "cl_delta_sigma = ClusterDeltaSigma((12,15), (0.1,1.2), hmf, True, 4.0)\n",
    "cosmo = ccl.Cosmology(\n",
    "    Omega_c=0.2607,      # Cold dark matter density\n",
    "    Omega_b=0.04897,     # Baryon density\n",
    "    h=0.6766,            # Hubble parameter\n",
    "    sigma8=0.8102,       # Matter fluctuation amplitude\n",
    "    n_s=0.9665,          # Spectral index\n",
    ")\n",
    "cl_delta_sigma._cosmo = cosmo\n",
    "\n",
    "cl_reduced_shear = ClusterDeltaSigma((12,15), (0.1,1.2), hmf, False, 4.0)\n",
    "\n",
    "cl_reduced_shear._cosmo = cosmo"
   ]
  },
  {
   "cell_type": "code",
   "execution_count": 13,
   "id": "0d83494e-b5b9-4014-b329-e80a489b94ac",
   "metadata": {},
   "outputs": [
    {
     "name": "stdout",
     "output_type": "stream",
     "text": [
      "values 1134519206141.9485\n",
      "[1.13451921e+12]\n",
      "values 0.000279048467760904\n",
      "[0.00027905]\n"
     ]
    }
   ],
   "source": [
    "ds_val = cl_delta_sigma.delta_sigma([13], [1.2], 3.0)\n",
    "print(ds_val)\n",
    "\n",
    "gt_val = cl_reduced_shear.delta_sigma([13], [1.2], 3.0)\n",
    "print(gt_val)"
   ]
  },
  {
   "cell_type": "code",
   "execution_count": null,
   "id": "4244ffc0-d706-4f09-8963-2ba49944f2d1",
   "metadata": {},
   "outputs": [],
   "source": []
  }
 ],
 "metadata": {
  "kernelspec": {
   "display_name": "Python (firecrown20.0)",
   "language": "python",
   "name": "firecrown_20"
  },
  "language_info": {
   "codemirror_mode": {
    "name": "ipython",
    "version": 3
   },
   "file_extension": ".py",
   "mimetype": "text/x-python",
   "name": "python",
   "nbconvert_exporter": "python",
   "pygments_lexer": "ipython3",
   "version": "3.13.0"
  }
 },
 "nbformat": 4,
 "nbformat_minor": 5
}
